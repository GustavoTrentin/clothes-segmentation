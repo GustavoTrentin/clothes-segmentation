{
 "cells": [
  {
   "attachments": {},
   "cell_type": "markdown",
   "metadata": {},
   "source": [
    "# Thresholds"
   ]
  },
  {
   "cell_type": "code",
   "execution_count": 1,
   "metadata": {},
   "outputs": [],
   "source": [
    "%reload_ext autoreload\n",
    "%autoreload 2\n",
    "%matplotlib inline"
   ]
  },
  {
   "cell_type": "markdown",
   "metadata": {},
   "source": [
    "### Simple Thresholds in OpenCV"
   ]
  },
  {
   "cell_type": "code",
   "execution_count": 2,
   "metadata": {},
   "outputs": [
    {
     "data": {
      "application/vnd.jupyter.widget-view+json": {
       "model_id": "3e4989b1eceb4f208976674bbf19b26d",
       "version_major": 2,
       "version_minor": 0
      },
      "text/plain": [
       "interactive(children=(IntSlider(value=127, description='thresh', max=255), Dropdown(description='modeStr', opt…"
      ]
     },
     "execution_count": 2,
     "metadata": {},
     "output_type": "execute_result"
    }
   ],
   "source": [
    "import cv2\n",
    "import matplotlib\n",
    "import numpy as np\n",
    "from matplotlib import pyplot as plt\n",
    "import os\n",
    "from ipywidgets import interact, interactive, interact_manual\n",
    "\n",
    "modes = ['cv2.THRESH_BINARY',\n",
    "         'cv2.THRESH_BINARY_INV',\n",
    "         'cv2.THRESH_TRUNC',\n",
    "         'cv2.THRESH_TOZERO',\n",
    "         'cv2.THRESH_TOZERO_INV']\n",
    "\n",
    "images = os.listdir('images')\n",
    "matplotlib.rcParams['figure.figsize'] = [12,12]\n",
    " \n",
    "def my_threshold(thresh, modeStr, image):\n",
    "    src = cv2.imread('images/'+image, cv2.IMREAD_GRAYSCALE)\n",
    "    mode = eval(modeStr)\n",
    "    th, dst = cv2.threshold(src, thresh, 255, mode)\n",
    "    fig, axes = plt.subplots(1, 2, figsize=(16, 12), sharex=True, sharey=True)\n",
    "    ax = axes.ravel()\n",
    "    ax[0].imshow(src,'gray')\n",
    "    ax[1].imshow(dst,'gray')\n",
    "\n",
    "interactive(my_threshold, thresh = (0, 255), modeStr = modes, image = images)"
   ]
  },
  {
   "cell_type": "markdown",
   "metadata": {},
   "source": [
    "### Adaptive Thresholds in SciKit\n",
    "\n",
    "SciKit only can do mean-based adaptive thresholding. "
   ]
  },
  {
   "cell_type": "code",
   "execution_count": 3,
   "metadata": {
    "scrolled": true
   },
   "outputs": [
    {
     "data": {
      "application/vnd.jupyter.widget-view+json": {
       "model_id": "b8f64eb3e71042ec9c05f6331a1de6c3",
       "version_major": 2,
       "version_minor": 0
      },
      "text/plain": [
       "interactive(children=(IntSlider(value=17, description='neighborhood', max=31, min=3, step=2), Dropdown(descrip…"
      ]
     },
     "execution_count": 3,
     "metadata": {},
     "output_type": "execute_result"
    }
   ],
   "source": [
    "import cv2\n",
    "import matplotlib.pyplot as plt\n",
    "from skimage import data\n",
    "from skimage.filters import threshold_otsu, threshold_local\n",
    "import os\n",
    "from ipywidgets import interact, interactive, interact_manual\n",
    "\n",
    "images = os.listdir('images')\n",
    "\n",
    "block_size = 35\n",
    "\n",
    "def my_scikitAdaptThreshold(neighborhood, image):\n",
    "    image = cv2.imread('images/' + image, cv2.IMREAD_GRAYSCALE)\n",
    "    global_thresh = threshold_otsu(image)\n",
    "    binary_global = image > global_thresh\n",
    "\n",
    "    binary_adaptive = threshold_local(image, neighborhood, offset=10)\n",
    "\n",
    "    fig, axes = plt.subplots(ncols=3, figsize=(20, 8))\n",
    "    ax0, ax1, ax2 = axes\n",
    "    plt.gray()\n",
    "\n",
    "    ax0.imshow(image)\n",
    "    ax0.set_title('Image')\n",
    "    ax1.imshow(binary_global)\n",
    "    ax1.set_title('Global thresholding')\n",
    "    ax2.imshow(binary_adaptive)\n",
    "    ax2.set_title('Adaptive thresholding')\n",
    "\n",
    "    for ax in axes:\n",
    "        ax.axis('off')\n",
    "    plt.show()\n",
    "    \n",
    "interactive(my_scikitAdaptThreshold, neighborhood=(3,31,2), image = images)"
   ]
  },
  {
   "cell_type": "markdown",
   "metadata": {},
   "source": [
    "# Credits\n",
    "\n",
    "* The OpenCV grayscale threshold examples were adapted from the following material:\n",
    "  * https://www.learnopencv.com/opencv-threshold-python-cpp/\n",
    "  * https://docs.opencv.org/3.4.0/d7/d4d/tutorial_py_thresholding.html\n",
    "* The SciKit grayscale threshold examples were adapted from the following materail:\n",
    "  * https://scikit-image.org/docs/0.12.x/auto_examples/segmentation/plot_threshold_adaptive.html\n",
    "  * https://scikit-image.org/docs/0.14.x/auto_examples/xx_applications/plot_thresholding.html"
   ]
  }
 ],
 "metadata": {
  "kernelspec": {
   "display_name": "venv",
   "language": "python",
   "name": "python3"
  },
  "language_info": {
   "codemirror_mode": {
    "name": "ipython",
    "version": 3
   },
   "file_extension": ".py",
   "mimetype": "text/x-python",
   "name": "python",
   "nbconvert_exporter": "python",
   "pygments_lexer": "ipython3",
   "version": "3.10.7"
  },
  "varInspector": {
   "cols": {
    "lenName": "20",
    "lenType": "20",
    "lenVar": "60"
   },
   "kernels_config": {
    "python": {
     "delete_cmd_postfix": "",
     "delete_cmd_prefix": "del ",
     "library": "var_list.py",
     "varRefreshCmd": "print(var_dic_list())"
    },
    "r": {
     "delete_cmd_postfix": ") ",
     "delete_cmd_prefix": "rm(",
     "library": "var_list.r",
     "varRefreshCmd": "cat(var_dic_list()) "
    }
   },
   "types_to_exclude": [
    "module",
    "function",
    "builtin_function_or_method",
    "instance",
    "_Feature"
   ],
   "window_display": false
  },
  "vscode": {
   "interpreter": {
    "hash": "6eab1c2c1466766817668c0ba9b34a6fb5cc6a68e28772209a3d685f8409d825"
   }
  }
 },
 "nbformat": 4,
 "nbformat_minor": 2
}
